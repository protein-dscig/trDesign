{
 "cells": [
  {
   "cell_type": "code",
   "execution_count": 1,
   "id": "30841f51",
   "metadata": {},
   "outputs": [],
   "source": [
    "import pandas as pd\n",
    "\n",
    "# read log\n",
    "df = pd.read_csv('log.csv')"
   ]
  },
  {
   "cell_type": "code",
   "execution_count": 2,
   "id": "26ffaed5",
   "metadata": {},
   "outputs": [
    {
     "data": {
      "text/html": [
       "<div>\n",
       "<style scoped>\n",
       "    .dataframe tbody tr th:only-of-type {\n",
       "        vertical-align: middle;\n",
       "    }\n",
       "\n",
       "    .dataframe tbody tr th {\n",
       "        vertical-align: top;\n",
       "    }\n",
       "\n",
       "    .dataframe thead th {\n",
       "        text-align: right;\n",
       "    }\n",
       "</style>\n",
       "<table border=\"1\" class=\"dataframe\">\n",
       "  <thead>\n",
       "    <tr style=\"text-align: right;\">\n",
       "      <th></th>\n",
       "      <th>step</th>\n",
       "      <th>sequence</th>\n",
       "      <th>score</th>\n",
       "      <th>total_mutations</th>\n",
       "    </tr>\n",
       "  </thead>\n",
       "  <tbody>\n",
       "    <tr>\n",
       "      <th>0</th>\n",
       "      <td>0</td>\n",
       "      <td>SKGEELFTGVVPILVELDGDVNGHKFSVSGEGEGDATYGKLTLKFI...</td>\n",
       "      <td>-0.417907</td>\n",
       "      <td>1</td>\n",
       "    </tr>\n",
       "    <tr>\n",
       "      <th>1</th>\n",
       "      <td>10</td>\n",
       "      <td>SKGEELFTGVVPILVELDGDVNGHKFSVSGEGEGDATYGKLTLKFI...</td>\n",
       "      <td>-0.424247</td>\n",
       "      <td>2</td>\n",
       "    </tr>\n",
       "    <tr>\n",
       "      <th>2</th>\n",
       "      <td>20</td>\n",
       "      <td>SKGEELFTGVVPILRELDGDVNGHKFSVSGEGEGDATYGKLTLKFI...</td>\n",
       "      <td>-0.440451</td>\n",
       "      <td>7</td>\n",
       "    </tr>\n",
       "    <tr>\n",
       "      <th>3</th>\n",
       "      <td>30</td>\n",
       "      <td>SKGEELFTGVVPILRELDGDVNGHKFSVSGEGDGDATYGKLTLKFI...</td>\n",
       "      <td>-0.451864</td>\n",
       "      <td>10</td>\n",
       "    </tr>\n",
       "    <tr>\n",
       "      <th>4</th>\n",
       "      <td>40</td>\n",
       "      <td>SKGEELFTGVVPILRELDGDVNGHKFSVSGEGDGDATYGKLTLKFW...</td>\n",
       "      <td>-0.458032</td>\n",
       "      <td>11</td>\n",
       "    </tr>\n",
       "  </tbody>\n",
       "</table>\n",
       "</div>"
      ],
      "text/plain": [
       "   step                                           sequence     score  \\\n",
       "0     0  SKGEELFTGVVPILVELDGDVNGHKFSVSGEGEGDATYGKLTLKFI... -0.417907   \n",
       "1    10  SKGEELFTGVVPILVELDGDVNGHKFSVSGEGEGDATYGKLTLKFI... -0.424247   \n",
       "2    20  SKGEELFTGVVPILRELDGDVNGHKFSVSGEGEGDATYGKLTLKFI... -0.440451   \n",
       "3    30  SKGEELFTGVVPILRELDGDVNGHKFSVSGEGDGDATYGKLTLKFI... -0.451864   \n",
       "4    40  SKGEELFTGVVPILRELDGDVNGHKFSVSGEGDGDATYGKLTLKFW... -0.458032   \n",
       "\n",
       "   total_mutations  \n",
       "0                1  \n",
       "1                2  \n",
       "2                7  \n",
       "3               10  \n",
       "4               11  "
      ]
     },
     "execution_count": 2,
     "metadata": {},
     "output_type": "execute_result"
    }
   ],
   "source": [
    "df.head()"
   ]
  },
  {
   "cell_type": "code",
   "execution_count": 3,
   "id": "ad43516b",
   "metadata": {},
   "outputs": [
    {
     "data": {
      "image/png": "[encoded data removed]",
      "text/plain": [
       "<Figure size 432x288 with 1 Axes>"
      ]
     },
     "metadata": {
      "needs_background": "light"
     },
     "output_type": "display_data"
    }
   ],
   "source": [
    "import matplotlib.pyplot as plt\n",
    "\n",
    "# Plot score\n",
    "fig, ax = plt.subplots()\n",
    "ax.plot(df['step'], df['score'])\n",
    "\n",
    "ax.set(xlabel='step', ylabel='score',\n",
    "       title='avGFP Design - Score')\n",
    "ax.grid()\n",
    "\n",
    "# fig.savefig(\"test.png\")\n",
    "plt.show()"
   ]
  },
  {
   "cell_type": "code",
   "execution_count": 6,
   "id": "9676a2f9",
   "metadata": {},
   "outputs": [
    {
     "data": {
      "image/png": "[encoded data removed]",
      "text/plain": [
       "<Figure size 432x288 with 1 Axes>"
      ]
     },
     "metadata": {
      "needs_background": "light"
     },
     "output_type": "display_data"
    }
   ],
   "source": [
    "# Plot score\n",
    "fig, ax = plt.subplots()\n",
    "ax.plot(df['step'], df['total_mutations'])\n",
    "\n",
    "ax.set(xlabel='step', ylabel='total_mutations',\n",
    "       title='avGFP Design - Total Mutations')\n",
    "ax.grid()\n",
    "\n",
    "# fig.savefig(\"test.png\")\n",
    "plt.show()"
   ]
  },
  {
   "cell_type": "code",
   "execution_count": 10,
   "id": "e1a107fd",
   "metadata": {},
   "outputs": [
    {
     "name": "stdout",
     "output_type": "stream",
     "text": [
      "['SKGEELFTGVVPILVELDGDVNGHKFSVSGEGEGDATYGKLTLKFICTTGKLPVPWPTLVTTLSYGVQCFSRYPDHMKQHDFFKSAMPEGYVQERTIFFKDDGNYKTRAEVKFEGDTLVNRIELKGIDFKEDGNILGHKLEYNYNSANVYIMADKQKNGIKVNFKIRHNIEDGSVQLADHYQQNTPIGDGPVLLPDNHYLSTQSALSKDPNEKRDHMVLLEFVTAAGITHGMDELYK*']\n",
      "['SQTEELFQHILPILRELPGMVMHCKFYVSNAGDGDDDRYSLTLMFWCWVSPKPVPGMYNDTMLSYGMQWFQRLMDVMMQHTNQNSDFMSGSVQEWDIHFSDDGFYLFRLQVTFQGSRRDNRIELQEIHFNRDGNILETKLNYNGDSANVYIGWFPNKDGMYCAFKIRVTWKNGSVQLSIHWTYWMPIGDDPRLINCIHYQWTYNAVSKDSNESNPTMVHFEFVMAGVPTDLAKEHIK*']\n"
     ]
    }
   ],
   "source": [
    "from Bio import pairwise2\n",
    "from Bio.pairwise2 import format_alignment\n",
    "\n",
    "# check the difference of the final design to the wild type protein\n",
    "wild_type = df[df['step'] == 0]['sequence'].values\n",
    "final_design = df[df['step'] == 1000]['sequence'].values\n",
    "\n",
    "print(wild_type)\n",
    "print(final_design)"
   ]
  },
  {
   "cell_type": "code",
   "execution_count": 11,
   "id": "64340f07",
   "metadata": {},
   "outputs": [
    {
     "name": "stdout",
     "output_type": "stream",
     "text": [
      "['SKG--EELFTGVV----PILV-ELD-GD-VNG-H-KFS-VSGE--GE-GDAT---YGK-LTLK-FI-CTTGKLP-V-PW-PTLVT------T-LSYGV-QC-FS-RYP--DH-MK-QH-----DFFKSAMPE-GY-VQERT--IF-FK-DDGN-YKT--RAE--VK-FE-G---DTLVNRIELKG--ID-FKE--DGNILGH--KLEYNYN--SANVYIMADKQKNGIKV---N-------FKIRH----NIEDGSVQLAD--HYQQN-T---PIGDG-PVL-LPD-N--HYLSTQS----AL-SKDP-NEKRDH----MVLL--EFVTA-AGI--THGMDELY-K----*']\n",
      "|||    ||||        |||  ||  |  |   | ||  ||    |  ||     |   |||  |  |       | |  |  |       | ||||  |  |  |    |  |  ||     | |   |   |  |||    |  |  |||  |    |    |  |  |   |   |||||    |  |    |||||    ||  |||  ||||||       |      |       ||||     |   |||||    |     |   ||||  |   |   |  ||   |     |  |||  ||        ||    |||   ||   |   | |  |    |||\n",
      "['S--QTEELF----QHILPIL-REL-PG-MV--MHCKF-YVS--NAG-DGD--DDRY--SLTL-MF-WC------WVSP-KP--V-PGMYNDTMLSYG-MQ-WF-QR--LMD-VM-MQHTNQNSD-F---M--SG-SVQE--WDI-HF-SDDG-FY--LFR--LQV-TF-QGSRRD---NRIEL--QEI-HF--NRDGNIL--ETKL--NYNGDSANVYI-------G---WFPNKDGMYCAFKIR-VTWKN---GSVQL--SIH----WTYWMPIGD-DP--RL--INCIHY---Q-WTYNA-VSKD-SNE----SNPTMV--HFEFV--MAG-VPT---D-L-AKEHIK*']\n",
      "  Score=129\n",
      "\n"
     ]
    }
   ],
   "source": [
    "alignments = pairwise2.align.globalxx(wild_type, final_design)\n",
    "print(format_alignment(*alignments[0]))"
   ]
  },
  {
   "cell_type": "code",
   "execution_count": 14,
   "id": "5680c1e9",
   "metadata": {},
   "outputs": [
    {
     "data": {
      "text/plain": [
       "238"
      ]
     },
     "execution_count": 14,
     "metadata": {},
     "output_type": "execute_result"
    }
   ],
   "source": [
    "len(wild_type[0])"
   ]
  },
  {
   "cell_type": "code",
   "execution_count": 1,
   "id": "0a1eddee",
   "metadata": {},
   "outputs": [
    {
     "name": "stdout",
     "output_type": "stream",
     "text": [
      "109\n"
     ]
    },
    {
     "ename": "NameError",
     "evalue": "name 'df' is not defined",
     "output_type": "error",
     "traceback": [
      "\u001b[1;31m---------------------------------------------------------------------------\u001b[0m",
      "\u001b[1;31mNameError\u001b[0m                                 Traceback (most recent call last)",
      "\u001b[1;32m~\\AppData\\Local\\Temp/ipykernel_22456/1987307909.py\u001b[0m in \u001b[0;36m<module>\u001b[1;34m\u001b[0m\n\u001b[0;32m      1\u001b[0m \u001b[0mprint\u001b[0m\u001b[1;33m(\u001b[0m\u001b[1;36m238\u001b[0m\u001b[1;33m-\u001b[0m\u001b[1;36m129\u001b[0m\u001b[1;33m)\u001b[0m\u001b[1;33m\u001b[0m\u001b[1;33m\u001b[0m\u001b[0m\n\u001b[1;32m----> 2\u001b[1;33m \u001b[0mprint\u001b[0m\u001b[1;33m(\u001b[0m\u001b[0mdf\u001b[0m\u001b[1;33m[\u001b[0m\u001b[0mdf\u001b[0m\u001b[1;33m[\u001b[0m\u001b[1;34m'step'\u001b[0m\u001b[1;33m]\u001b[0m \u001b[1;33m==\u001b[0m \u001b[1;36m1000\u001b[0m\u001b[1;33m]\u001b[0m\u001b[1;33m[\u001b[0m\u001b[1;34m'total_mutations'\u001b[0m\u001b[1;33m]\u001b[0m\u001b[1;33m.\u001b[0m\u001b[0mvalues\u001b[0m\u001b[1;33m)\u001b[0m\u001b[1;33m\u001b[0m\u001b[1;33m\u001b[0m\u001b[0m\n\u001b[0m",
      "\u001b[1;31mNameError\u001b[0m: name 'df' is not defined"
     ]
    }
   ],
   "source": [
    "print(238-129)\n",
    "print(df[df['step'] == 1000]['total_mutations'].values)"
   ]
  },
  {
   "cell_type": "code",
   "execution_count": 3,
   "id": "29d66369",
   "metadata": {},
   "outputs": [
    {
     "data": {
      "text/plain": [
       "[0, 36, 133, 141, 148, 151, 153, 161, 166, 231, 232, 235]"
      ]
     },
     "execution_count": 3,
     "metadata": {},
     "output_type": "execute_result"
    }
   ],
   "source": [
    "s1 = 'SKGEELFTGVVPILVELDGDVNGHKFSVSGEGEGDATYGKLTLKFICTTGKLPVPWPTLVTTLSYGVQCFSRYPDHMKQHDFFKSAMPEGYVQERTIFFKDDGNYKTRAEVKFEGDTLVNRIELKGIDFKEDGNILGHKLEYNYNSHNVYIMADKQKNGIKVNFKIRHNIEDGSVQLADHYQQNTPIGDGPVLLPDNHYLSTQSALSKDPNEKRDHMVLLEFVTAAGITHGMDELYK'\n",
    "s2 = 'NKGEELFTGVVPILVELDGDVNGHKFSVSGEGEGDAQYGKLTLKFICTTGKLPVPWPTLVTTLSYGVQCFSRYPDHMKQHDFFKSAMPEGYVQERTIFFKDDGNYKTRAEVKFEGDTLVNRIELKGIDFKEDGTILGHKLEWNYNSHNAYITAEKQKNGIKMNFKIEHNIEDGSVQLADHYQQNTPIGDGPVLLPDNHYLSTQSALSKDPNEKRDHMVLLEFVTAAGITHGFAELKK'\n",
    "[i for i in range(len(s1)) if s1[i] != s2[i]]"
   ]
  }
 ],
 "metadata": {
  "kernelspec": {
   "display_name": "Python 3 (ipykernel)",
   "language": "python",
   "name": "python3"
  },
  "language_info": {
   "codemirror_mode": {
    "name": "ipython",
    "version": 3
   },
   "file_extension": ".py",
   "mimetype": "text/x-python",
   "name": "python",
   "nbconvert_exporter": "python",
   "pygments_lexer": "ipython3",
   "version": "3.8.12"
  }
 },
 "nbformat": 4,
 "nbformat_minor": 5
}
